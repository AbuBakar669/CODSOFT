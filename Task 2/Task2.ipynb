{
  "nbformat": 4,
  "nbformat_minor": 0,
  "metadata": {
    "colab": {
      "provenance": []
    },
    "kernelspec": {
      "name": "python3",
      "display_name": "Python 3"
    },
    "language_info": {
      "name": "python"
    }
  },
  "cells": [
    {
      "cell_type": "code",
      "source": [
        "from google.colab import drive\n",
        "drive.mount('/content/drive')"
      ],
      "metadata": {
        "colab": {
          "base_uri": "https://localhost:8080/"
        },
        "id": "-ljzlma6RtuH",
        "outputId": "de3ad934-d7af-4b12-db3c-176f0c0263a9"
      },
      "execution_count": null,
      "outputs": [
        {
          "output_type": "stream",
          "name": "stdout",
          "text": [
            "Mounted at /content/drive\n"
          ]
        }
      ]
    },
    {
      "cell_type": "markdown",
      "source": [
        "Importing Libraries"
      ],
      "metadata": {
        "id": "bDvlapL6GJlF"
      }
    },
    {
      "cell_type": "code",
      "source": [
        "import pandas as pd\n",
        "from sklearn.model_selection import train_test_split\n",
        "from sklearn.linear_model import LinearRegression\n",
        "from sklearn.metrics import mean_squared_error, r2_score\n",
        "from sklearn.impute import SimpleImputer\n",
        "import joblib\n"
      ],
      "metadata": {
        "id": "puU9CKjjGMSO"
      },
      "execution_count": null,
      "outputs": []
    },
    {
      "cell_type": "markdown",
      "source": [
        "Loading and Preprocessing the Dataset"
      ],
      "metadata": {
        "id": "Id1bRJC3GO3l"
      }
    },
    {
      "cell_type": "code",
      "source": [
        "# Load the movie dataset with the 'latin-1' encoding\n",
        "data = pd.read_csv('/content/drive/MyDrive/Colab Notebooks/Codsoft/Task 2/IMDb Movies India.csv', encoding='latin-1')\n",
        "\n",
        "# Data preprocessing\n",
        "data.dropna(subset=['Rating'], inplace=True)\n",
        "data['Rating'] = data['Rating'].astype(float)\n",
        "\n",
        "# preprocessing the \"Year\" column to remove non-numeric characters and convert to float\n",
        "data['Year'] = data['Year'].str.extract('(\\d+)').astype(float)\n",
        "\n",
        "# preprocessing the \"Duration\" column to extract the numeric part and convert to float\n",
        "data['Duration'] = data['Duration'].str.extract('(\\d+)').astype(float)\n",
        "\n",
        "# preprocessing the \"Votes\" column to remove commas and convert to integer\n",
        "data['Votes'] = data['Votes'].str.replace(',', '').astype(int)\n",
        "\n",
        "# Convert categorical variables (e.g., genres) to dummy variables\n",
        "genre_dummies = data['Genre'].str.get_dummies(sep=', ')\n",
        "data = pd.concat([data, genre_dummies], axis=1)\n"
      ],
      "metadata": {
        "id": "juo2miTUGZXR"
      },
      "execution_count": null,
      "outputs": []
    },
    {
      "cell_type": "markdown",
      "source": [
        "Feature Extraction"
      ],
      "metadata": {
        "id": "YFlGcvAxGbcV"
      }
    },
    {
      "cell_type": "code",
      "source": [
        "\n",
        "# Extract relevant features\n",
        "X = data.drop(['Name', 'Rating', 'Director', 'Actor 1', 'Actor 2', 'Actor 3', 'Genre'], axis=1)\n",
        "y = data['Rating']\n"
      ],
      "metadata": {
        "id": "f45e6MtPGiW3"
      },
      "execution_count": null,
      "outputs": []
    },
    {
      "cell_type": "markdown",
      "source": [
        "Data Splitting"
      ],
      "metadata": {
        "id": "dYWlUzImGppy"
      }
    },
    {
      "cell_type": "code",
      "source": [
        "# Split the data into training and testing sets\n",
        "X_train, X_test, y_train, y_test = train_test_split(X, y, test_size=0.2, random_state=42)\n"
      ],
      "metadata": {
        "id": "sg80fqlTGsPG"
      },
      "execution_count": null,
      "outputs": []
    },
    {
      "cell_type": "markdown",
      "source": [
        "Imputing Missing Values"
      ],
      "metadata": {
        "id": "JgZVNzU4Gu_T"
      }
    },
    {
      "cell_type": "code",
      "source": [
        "\n",
        "# Instantiate the imputer with the mean strategy\n",
        "imputer = SimpleImputer(strategy='mean')\n",
        "\n",
        "# Fit the imputer on the training data and transform both training and testing data\n",
        "X_train = imputer.fit_transform(X_train)\n",
        "X_test = imputer.transform(X_test)\n"
      ],
      "metadata": {
        "id": "mYOlFFsZG3lM"
      },
      "execution_count": null,
      "outputs": []
    },
    {
      "cell_type": "markdown",
      "source": [
        "Training the Movie Rating Prediction Model"
      ],
      "metadata": {
        "id": "sz5nwa9XG4Y7"
      }
    },
    {
      "cell_type": "code",
      "source": [
        "# Create and train the regression model\n",
        "regression_model = LinearRegression()\n",
        "regression_model.fit(X_train, y_train)"
      ],
      "metadata": {
        "colab": {
          "base_uri": "https://localhost:8080/",
          "height": 75
        },
        "id": "BoYkVbjGHACy",
        "outputId": "871669d3-5ad5-4107-d260-f0d8024edead"
      },
      "execution_count": null,
      "outputs": [
        {
          "output_type": "execute_result",
          "data": {
            "text/plain": [
              "LinearRegression()"
            ],
            "text/html": [
              "<style>#sk-container-id-1 {color: black;background-color: white;}#sk-container-id-1 pre{padding: 0;}#sk-container-id-1 div.sk-toggleable {background-color: white;}#sk-container-id-1 label.sk-toggleable__label {cursor: pointer;display: block;width: 100%;margin-bottom: 0;padding: 0.3em;box-sizing: border-box;text-align: center;}#sk-container-id-1 label.sk-toggleable__label-arrow:before {content: \"▸\";float: left;margin-right: 0.25em;color: #696969;}#sk-container-id-1 label.sk-toggleable__label-arrow:hover:before {color: black;}#sk-container-id-1 div.sk-estimator:hover label.sk-toggleable__label-arrow:before {color: black;}#sk-container-id-1 div.sk-toggleable__content {max-height: 0;max-width: 0;overflow: hidden;text-align: left;background-color: #f0f8ff;}#sk-container-id-1 div.sk-toggleable__content pre {margin: 0.2em;color: black;border-radius: 0.25em;background-color: #f0f8ff;}#sk-container-id-1 input.sk-toggleable__control:checked~div.sk-toggleable__content {max-height: 200px;max-width: 100%;overflow: auto;}#sk-container-id-1 input.sk-toggleable__control:checked~label.sk-toggleable__label-arrow:before {content: \"▾\";}#sk-container-id-1 div.sk-estimator input.sk-toggleable__control:checked~label.sk-toggleable__label {background-color: #d4ebff;}#sk-container-id-1 div.sk-label input.sk-toggleable__control:checked~label.sk-toggleable__label {background-color: #d4ebff;}#sk-container-id-1 input.sk-hidden--visually {border: 0;clip: rect(1px 1px 1px 1px);clip: rect(1px, 1px, 1px, 1px);height: 1px;margin: -1px;overflow: hidden;padding: 0;position: absolute;width: 1px;}#sk-container-id-1 div.sk-estimator {font-family: monospace;background-color: #f0f8ff;border: 1px dotted black;border-radius: 0.25em;box-sizing: border-box;margin-bottom: 0.5em;}#sk-container-id-1 div.sk-estimator:hover {background-color: #d4ebff;}#sk-container-id-1 div.sk-parallel-item::after {content: \"\";width: 100%;border-bottom: 1px solid gray;flex-grow: 1;}#sk-container-id-1 div.sk-label:hover label.sk-toggleable__label {background-color: #d4ebff;}#sk-container-id-1 div.sk-serial::before {content: \"\";position: absolute;border-left: 1px solid gray;box-sizing: border-box;top: 0;bottom: 0;left: 50%;z-index: 0;}#sk-container-id-1 div.sk-serial {display: flex;flex-direction: column;align-items: center;background-color: white;padding-right: 0.2em;padding-left: 0.2em;position: relative;}#sk-container-id-1 div.sk-item {position: relative;z-index: 1;}#sk-container-id-1 div.sk-parallel {display: flex;align-items: stretch;justify-content: center;background-color: white;position: relative;}#sk-container-id-1 div.sk-item::before, #sk-container-id-1 div.sk-parallel-item::before {content: \"\";position: absolute;border-left: 1px solid gray;box-sizing: border-box;top: 0;bottom: 0;left: 50%;z-index: -1;}#sk-container-id-1 div.sk-parallel-item {display: flex;flex-direction: column;z-index: 1;position: relative;background-color: white;}#sk-container-id-1 div.sk-parallel-item:first-child::after {align-self: flex-end;width: 50%;}#sk-container-id-1 div.sk-parallel-item:last-child::after {align-self: flex-start;width: 50%;}#sk-container-id-1 div.sk-parallel-item:only-child::after {width: 0;}#sk-container-id-1 div.sk-dashed-wrapped {border: 1px dashed gray;margin: 0 0.4em 0.5em 0.4em;box-sizing: border-box;padding-bottom: 0.4em;background-color: white;}#sk-container-id-1 div.sk-label label {font-family: monospace;font-weight: bold;display: inline-block;line-height: 1.2em;}#sk-container-id-1 div.sk-label-container {text-align: center;}#sk-container-id-1 div.sk-container {/* jupyter's `normalize.less` sets `[hidden] { display: none; }` but bootstrap.min.css set `[hidden] { display: none !important; }` so we also need the `!important` here to be able to override the default hidden behavior on the sphinx rendered scikit-learn.org. See: https://github.com/scikit-learn/scikit-learn/issues/21755 */display: inline-block !important;position: relative;}#sk-container-id-1 div.sk-text-repr-fallback {display: none;}</style><div id=\"sk-container-id-1\" class=\"sk-top-container\"><div class=\"sk-text-repr-fallback\"><pre>LinearRegression()</pre><b>In a Jupyter environment, please rerun this cell to show the HTML representation or trust the notebook. <br />On GitHub, the HTML representation is unable to render, please try loading this page with nbviewer.org.</b></div><div class=\"sk-container\" hidden><div class=\"sk-item\"><div class=\"sk-estimator sk-toggleable\"><input class=\"sk-toggleable__control sk-hidden--visually\" id=\"sk-estimator-id-1\" type=\"checkbox\" checked><label for=\"sk-estimator-id-1\" class=\"sk-toggleable__label sk-toggleable__label-arrow\">LinearRegression</label><div class=\"sk-toggleable__content\"><pre>LinearRegression()</pre></div></div></div></div></div>"
            ]
          },
          "metadata": {},
          "execution_count": 7
        }
      ]
    },
    {
      "cell_type": "markdown",
      "source": [
        "Model Evaluation"
      ],
      "metadata": {
        "id": "qWzOkOhmHawz"
      }
    },
    {
      "cell_type": "code",
      "execution_count": null,
      "metadata": {
        "colab": {
          "base_uri": "https://localhost:8080/"
        },
        "id": "p1p2dHADRm8Z",
        "outputId": "c6af295c-3a36-48e7-d538-6baef5200044"
      },
      "outputs": [
        {
          "output_type": "stream",
          "name": "stdout",
          "text": [
            "Mean Squared Error: 1.514619017215519\n",
            "R-squared: 0.185314269389396\n"
          ]
        }
      ],
      "source": [
        "# Make predictions on the test set\n",
        "y_pred = regression_model.predict(X_test)\n",
        "\n",
        "# Evaluate the model\n",
        "mse = mean_squared_error(y_test, y_pred)\n",
        "r2 = r2_score(y_test, y_pred)\n",
        "\n",
        "print(f'Mean Squared Error: {mse}')\n",
        "print(f'R-squared: {r2}')\n",
        "\n"
      ]
    },
    {
      "cell_type": "markdown",
      "source": [
        "Saving the Trained Model to a .pkl File"
      ],
      "metadata": {
        "id": "qx9tSAEjHS6W"
      }
    },
    {
      "cell_type": "code",
      "source": [
        "\n",
        "# Save the trained model to a .pkl file\n",
        "joblib.dump(regression_model, '/content/drive/MyDrive/Colab Notebooks/Codsoft/Task 2/movie_rating_model.pkl')"
      ],
      "metadata": {
        "colab": {
          "base_uri": "https://localhost:8080/"
        },
        "id": "z-q-Uj-FHTqX",
        "outputId": "66e1d503-e7c6-4571-9fb2-1cb783ab11e3"
      },
      "execution_count": null,
      "outputs": [
        {
          "output_type": "execute_result",
          "data": {
            "text/plain": [
              "['/content/drive/MyDrive/Colab Notebooks/Codsoft/Task 2/movie_rating_model.pkl']"
            ]
          },
          "metadata": {},
          "execution_count": 9
        }
      ]
    },
    {
      "cell_type": "markdown",
      "source": [
        "Loading the Model and Make Predictions on New Data"
      ],
      "metadata": {
        "id": "UY7xtXSxHHk-"
      }
    },
    {
      "cell_type": "code",
      "source": [
        "\n",
        "# Load the saved model from the .pkl file\n",
        "loaded_model = joblib.load('/content/drive/MyDrive/Colab Notebooks/Codsoft/Task 2/movie_rating_model.pkl')\n",
        "\n",
        "# Example: Predict the rating for a new movie\n",
        "new_data = pd.DataFrame({\n",
        "    'Year': [2022],\n",
        "    'Duration': [120],\n",
        "    'Votes': [5000],\n",
        "    'Drama': [0],\n",
        "    'Comedy': [1],\n",
        "    'Action': [1],\n",
        "    'Horror': [0],\n",
        "    'Mystery': [0],\n",
        "    'Thriller': [1],\n",
        "})\n",
        "\n",
        "# Ensure that the order and presence of dummy variables match the training data\n",
        "missing_columns = set(X.columns) - set(new_data.columns)\n",
        "for column in missing_columns:\n",
        "    new_data[column] = 0  # Add missing dummy variables with value 0\n",
        "\n",
        "new_data = new_data[X.columns]  # Select only the columns present in X\n",
        "\n",
        "new_prediction = loaded_model.predict(new_data)\n",
        "print(f'Predicted Rating for New Movie: {new_prediction[0]}')\n"
      ],
      "metadata": {
        "id": "JKX3mqoIRvW5",
        "colab": {
          "base_uri": "https://localhost:8080/"
        },
        "outputId": "8dc58f90-a2b2-4b59-9bbb-0fba1416f6fe"
      },
      "execution_count": null,
      "outputs": [
        {
          "output_type": "stream",
          "name": "stdout",
          "text": [
            "Predicted Rating for New Movie: 4.882184845354189\n"
          ]
        },
        {
          "output_type": "stream",
          "name": "stderr",
          "text": [
            "/usr/local/lib/python3.10/dist-packages/sklearn/base.py:432: UserWarning: X has feature names, but LinearRegression was fitted without feature names\n",
            "  warnings.warn(\n"
          ]
        }
      ]
    },
    {
      "cell_type": "code",
      "source": [],
      "metadata": {
        "id": "HoqxViygHg0e"
      },
      "execution_count": null,
      "outputs": []
    }
  ]
}